{
 "nbformat": 4,
 "nbformat_minor": 2,
 "metadata": {
  "language_info": {
   "name": "python",
   "codemirror_mode": {
    "name": "ipython",
    "version": 3
   }
  },
  "orig_nbformat": 2,
  "file_extension": ".py",
  "mimetype": "text/x-python",
  "name": "python",
  "npconvert_exporter": "python",
  "pygments_lexer": "ipython3",
  "version": 3
 },
 "cells": [
  {
   "cell_type": "markdown",
   "metadata": {},
   "source": [
    "## ДЗ 6. Панков Викентий"
   ]
  },
  {
   "cell_type": "markdown",
   "metadata": {},
   "source": [
    "### Построим сборки для pacbio10-pacbio80:\n",
    "flye --out-dir pacbio20 --genome-size 4.7m --threads 7 --pacbio-raw pacbio_20x.fq.gz;    \n",
    "flye --out-dir pacbio40 --genome-size 4.7m --threads 7 --pacbio-raw pacbio_40x.fq.gz;    \n",
    "flye --out-dir pacbio80 --genome-size 4.7m --threads 7 --pacbio-raw pacbio_80x.fq.gz;    \n",
    "\n",
    "### Для Illumina:\n",
    "spades -1 illumina.100x.1.fq.gz -2 illumina.100x.2.fq.gz -o illumina   \n",
    "\n",
    "### Для Illumina&PacBio:\n",
    "spades -1 illumina.100x.1.fq.gz -2 illumina.100x.2.fq.gz -o illuminawithpacbio --trusted-contigs pacbio80/assembly.fasta"
   ]
  },
  {
   "cell_type": "markdown",
   "metadata": {},
   "source": [
    "### Качество сборки для PacBio x 10:\n"
   ]
  },
  {
   "cell_type": "markdown",
   "metadata": {},
   "source": [
    "![alt text](pacbio10.PNG \"Title\")\n"
   ]
  },
  {
   "cell_type": "code",
   "execution_count": null,
   "metadata": {},
   "outputs": [],
   "source": []
  }
 ]
}