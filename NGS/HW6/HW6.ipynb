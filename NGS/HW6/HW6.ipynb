{
 "nbformat": 4,
 "nbformat_minor": 2,
 "metadata": {
  "language_info": {
   "name": "python",
   "codemirror_mode": {
    "name": "ipython",
    "version": 3
   }
  },
  "orig_nbformat": 2,
  "file_extension": ".py",
  "mimetype": "text/x-python",
  "name": "python",
  "npconvert_exporter": "python",
  "pygments_lexer": "ipython3",
  "version": 3
 },
 "cells": [
  {
   "cell_type": "markdown",
   "metadata": {},
   "source": [
    "## ДЗ 6. Панков Викентий"
   ]
  },
  {
   "cell_type": "markdown",
   "metadata": {},
   "source": [
    "### Построим сборки для pacbio10-pacbio80:\n",
    "flye --out-dir pacbio20 --genome-size 4.7m --threads 7 --pacbio-raw pacbio_20x.fq.gz;    \n",
    "flye --out-dir pacbio40 --genome-size 4.7m --threads 7 --pacbio-raw pacbio_40x.fq.gz;    \n",
    "flye --out-dir pacbio80 --genome-size 4.7m --threads 7 --pacbio-raw pacbio_80x.fq.gz;    \n",
    "\n",
    "### Для Illumina:\n",
    "spades -1 illumina.100x.1.fq.gz -2 illumina.100x.2.fq.gz -o illumina   \n",
    "\n",
    "### Для Illumina&PacBio:\n",
    "spades -1 illumina.100x.1.fq.gz -2 illumina.100x.2.fq.gz -o illuminawithpacbio --trusted-contigs pacbio80/assembly.fasta"
   ]
  },
  {
   "cell_type": "markdown",
   "metadata": {},
   "source": [
    "### Качество сборки - NAx:\n",
    "![alt text](NAx.png \"Title\")"
   ]
  },
  {
   "cell_type": "markdown",
   "metadata": {},
   "source": [
    "### Качество сборки - суммарно:\n",
    "![alt text](all.PNG \"Title\")\n"
   ]
  },
  {
   "cell_type": "markdown",
   "metadata": {},
   "source": [
    "### Выводы\n",
    "\n",
    "1. Чем больше покрытие PacBio, тем лучше по всем параметрам\n",
    "3. При недостаточном покрытии точность PacBio очень низкая. Превзойти Illumina в точности можно только при покрытии 40-80\n",
    "4. Нет смысла делать гибридную сборку, если у нас есть возможность получить высокое покрытие (80x) на PacBio; гибридная хуже чистой PacBio x80 по всем параметрам, хотя и сильно лучше чистой Illumina сборки\n",
    "5. NGA50 для PacBio лучше Illumina уже при покрытии больше 10. Контигов получается намного меньше, и они, соответственно, намного длиннее. "
   ]
  },
  {
   "cell_type": "code",
   "execution_count": null,
   "metadata": {},
   "outputs": [],
   "source": []
  }
 ]
}