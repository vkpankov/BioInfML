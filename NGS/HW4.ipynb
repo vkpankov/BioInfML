{
 "nbformat": 4,
 "nbformat_minor": 2,
 "metadata": {
  "language_info": {
   "name": "python",
   "codemirror_mode": {
    "name": "ipython",
    "version": 3
   },
   "version": "3.8.1-final"
  },
  "orig_nbformat": 2,
  "file_extension": ".py",
  "mimetype": "text/x-python",
  "name": "python",
  "npconvert_exporter": "python",
  "pygments_lexer": "ipython3",
  "version": 3,
  "kernelspec": {
   "name": "python3",
   "display_name": "Python 3"
  }
 },
 "cells": [
  {
   "cell_type": "markdown",
   "metadata": {},
   "source": [
    "## ДЗ 4. Панков Викентий"
   ]
  },
  {
   "cell_type": "code",
   "execution_count": null,
   "metadata": {},
   "outputs": [],
   "source": [
    "import pandas as pd\n",
    "import matplotlib.pyplot as plt\n",
    "import numpy as np\n",
    "import pysam\n",
    "from Bio import SeqIO\n",
    "from collections import Counter"
   ]
  },
  {
   "cell_type": "markdown",
   "metadata": {},
   "source": [
    "## Метод:\n",
    "Сравниваем риды с одинаковым ID из исходного и скорректированного файлов  \n",
    "\n",
    "**Для каждой позиции исходного рида и соответствующей позиции скорректированного рида смотрим:**   \n",
    "    1. если исходная позиция выровнялась правильно, а скорректированная - неправильно, считаем это Falsely corrected error  \n",
    "    2. если исходная и скорректированная позиции выровнялись правильно, считаем это Correctly unmodified base  \n",
    "    3. если исходная позиция выровнялась неправильно, а соответствующая скорректированная стала правильной - это Detected & corrected error  \n",
    "    4. если и исходная, и скорректированная позиции выровнялись неправильно - это Undetected error  \n",
    "    5. если исходная позиция была правильной, а скорректированная удалена (заменена буквой N) - это Incorrectly removed base  \n",
    "    6. если исходная позиция была неправильной, а скорректированная удалена - это Detected and removed error \n",
    "\n",
    "*** TODO: Учесть инсерции/делеции ***"
   ]
  },
  {
   "cell_type": "code",
   "execution_count": 132,
   "metadata": {},
   "outputs": [],
   "source": [
    "def estimateErrors(originalFileName, correctedFileName):\n",
    "\n",
    "    original_align = pysam.AlignmentFile(originalFileName, \"rb\" )\n",
    "    corrected_align = pysam.AlignmentFile(correctedFileName, \"rb\" )\n",
    "\n",
    "    mdTags = 0\n",
    "    count = 0\n",
    "\n",
    "    undetected = 0\n",
    "    detectedAndCorrected = 0 \n",
    "    detectedAndRemoved = 0\n",
    "    falselyCorrected = 0\n",
    "    correctlyUnmodified = 0\n",
    "    incorrectlyRemoved = 0\n",
    "\n",
    "    for original_read, corrected_read in zip(original_align.fetch(), corrected_align.fetch()):\n",
    "        try:\n",
    "\n",
    "            if(original_read.cigartuples is None or original_read.cigartuples is None):\n",
    "                continue\n",
    "\n",
    "            origin_query = original_read.query_sequence\n",
    "            origin_aligns = original_read.get_aligned_pairs(matches_only = True, with_seq = True)\n",
    "            corrected_query = corrected_read.query_sequence\n",
    "            corrected_aligns = corrected_read.get_aligned_pairs(matches_only = True, with_seq = True)\n",
    "\n",
    "            for original_tuple, corrected_tuple in zip(origin_aligns, corrected_aligns):\n",
    "                origin_base = origin_query[original_tuple[0]] #нуклеотид в исходном риде\n",
    "                corrected_base = corrected_query[corrected_tuple[0]] #нуклеотид в скорректированном риде\n",
    "\n",
    "\n",
    "                if(origin_base != original_tuple[2] and corrected_base == \"N\"):\n",
    "                    detectedAndRemoved+=1\n",
    "                elif(origin_base != original_tuple[2] and corrected_base == corrected_tuple[2]): #_tuple[2] - нуклеотид в референсе\n",
    "                    detectedAndCorrected+=1\n",
    "                elif(origin_base != original_tuple[2] and corrected_base != corrected_tuple[2]):\n",
    "                    undetected+=1\n",
    "                elif(origin_base == original_tuple[2] and corrected_base == \"N\"):\n",
    "                    incorrectlyRemoved+=1\n",
    "                elif(origin_base == original_tuple[2] and corrected_base != corrected_tuple[2]):\n",
    "                    falselyCorrected+=1\n",
    "                elif(origin_base == original_tuple[2] and corrected_base == corrected_tuple[2]):\n",
    "                    correctlyUnmodified+=1\n",
    "        except ValueError:\n",
    "            mdTags+=1\n",
    "\n",
    "    df = pd.DataFrame([[\"Error in raw data\", \"\", \"\", \"\"], [\"Correct base in raw data\", \"\", \"\", \"\"]], columns = [\"-\", \"Error in corrected reads\", \"Correct base in corrected reads\", \"Base is absent in corrected reads\"])\n",
    "    df = df.set_index(df.columns[0])\n",
    "    df.loc[\"Error in raw data\", \"Error in corrected reads\"]=undetected\n",
    "    df.loc[\"Error in raw data\", \"Correct base in corrected reads\"]=detectedAndCorrected\n",
    "    df.loc[\"Error in raw data\", \"Base is absent in corrected reads\"]=detectedAndRemoved\n",
    "\n",
    "    df.loc[\"Correct base in raw data\", \"Error in corrected reads\"]=falselyCorrected\n",
    "    df.loc[\"Correct base in raw data\", \"Correct base in corrected reads\"]=correctlyUnmodified\n",
    "    df.loc[\"Correct base in raw data\", \"Base is absent in corrected reads\"]=incorrectlyRemoved\n",
    "\n",
    "    return df\n"
   ]
  },
  {
   "cell_type": "markdown",
   "metadata": {},
   "source": [
    "## Trimmomatic:"
   ]
  },
  {
   "cell_type": "code",
   "execution_count": 133,
   "metadata": {},
   "outputs": [
    {
     "data": {
      "text/html": "<div>\n<style scoped>\n    .dataframe tbody tr th:only-of-type {\n        vertical-align: middle;\n    }\n\n    .dataframe tbody tr th {\n        vertical-align: top;\n    }\n\n    .dataframe thead th {\n        text-align: right;\n    }\n</style>\n<table border=\"1\" class=\"dataframe\">\n  <thead>\n    <tr style=\"text-align: right;\">\n      <th></th>\n      <th>Error in corrected reads</th>\n      <th>Correct base in corrected reads</th>\n      <th>Base is absent in corrected reads</th>\n    </tr>\n    <tr>\n      <th>-</th>\n      <th></th>\n      <th></th>\n      <th></th>\n    </tr>\n  </thead>\n  <tbody>\n    <tr>\n      <th>Error in raw data</th>\n      <td>9662</td>\n      <td>2132767</td>\n      <td>1206</td>\n    </tr>\n    <tr>\n      <th>Correct base in raw data</th>\n      <td>910197</td>\n      <td>239174223</td>\n      <td>140355</td>\n    </tr>\n  </tbody>\n</table>\n</div>",
      "text/plain": "                         Error in corrected reads  \\\n-                                                   \nError in raw data                            9662   \nCorrect base in raw data                   910197   \n\n                         Correct base in corrected reads  \\\n-                                                          \nError in raw data                                2132767   \nCorrect base in raw data                       239174223   \n\n                         Base is absent in corrected reads  \n-                                                           \nError in raw data                                     1206  \nCorrect base in raw data                            140355  "
     },
     "execution_count": 133,
     "metadata": {},
     "output_type": "execute_result"
    }
   ],
   "source": [
    "estimateErrors(\"data/HW4/original2.bam\", \"data/HW4/trim2.bam\")"
   ]
  },
  {
   "cell_type": "markdown",
   "metadata": {},
   "source": [
    "## SPAdes / BayesHammer:"
   ]
  },
  {
   "cell_type": "markdown",
   "metadata": {},
   "source": [
    "bwa mem reference.fasta bayeshammer/corrected/ecoli_400K_err_1.00.0_0.cor.fastq.gz bayeshammer/corrected/ecoli_400K_err_2.00.0_0.cor.fastq.gz | samtools sort -o bayeshammer.bam"
   ]
  },
  {
   "cell_type": "code",
   "execution_count": 134,
   "metadata": {},
   "outputs": [
    {
     "data": {
      "text/html": "<div>\n<style scoped>\n    .dataframe tbody tr th:only-of-type {\n        vertical-align: middle;\n    }\n\n    .dataframe tbody tr th {\n        vertical-align: top;\n    }\n\n    .dataframe thead th {\n        text-align: right;\n    }\n</style>\n<table border=\"1\" class=\"dataframe\">\n  <thead>\n    <tr style=\"text-align: right;\">\n      <th></th>\n      <th>Error in corrected reads</th>\n      <th>Correct base in corrected reads</th>\n      <th>Base is absent in corrected reads</th>\n    </tr>\n    <tr>\n      <th>-</th>\n      <th></th>\n      <th></th>\n      <th></th>\n    </tr>\n  </thead>\n  <tbody>\n    <tr>\n      <th>Error in raw data</th>\n      <td>2190</td>\n      <td>2166270</td>\n      <td>6263</td>\n    </tr>\n    <tr>\n      <th>Correct base in raw data</th>\n      <td>210186</td>\n      <td>242597992</td>\n      <td>406992</td>\n    </tr>\n  </tbody>\n</table>\n</div>",
      "text/plain": "                         Error in corrected reads  \\\n-                                                   \nError in raw data                            2190   \nCorrect base in raw data                   210186   \n\n                         Correct base in corrected reads  \\\n-                                                          \nError in raw data                                2166270   \nCorrect base in raw data                       242597992   \n\n                         Base is absent in corrected reads  \n-                                                           \nError in raw data                                     6263  \nCorrect base in raw data                            406992  "
     },
     "execution_count": 134,
     "metadata": {},
     "output_type": "execute_result"
    }
   ],
   "source": [
    "estimateErrors(\"data/HW4/original2.bam\", \"data/HW4/bayeshammer.bam\")"
   ]
  },
  {
   "cell_type": "code",
   "execution_count": null,
   "metadata": {},
   "outputs": [],
   "source": []
  }
 ]
}