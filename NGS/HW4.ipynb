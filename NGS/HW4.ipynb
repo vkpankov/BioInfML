{
 "cells": [
  {
   "cell_type": "markdown",
   "metadata": {},
   "source": [
    "## ДЗ 4. Панков Викентий"
   ]
  },
  {
   "cell_type": "code",
   "execution_count": 4,
   "metadata": {},
   "outputs": [],
   "source": [
    "import pandas as pd\n",
    "import matplotlib.pyplot as plt\n",
    "import numpy as np\n",
    "import pysam\n",
    "from Bio import SeqIO\n",
    "from collections import Counter"
   ]
  },
  {
   "cell_type": "markdown",
   "metadata": {},
   "source": [
    "## Метод:\n",
    "Сравниваем риды с одинаковым ID из исходного и скорректированного файлов  \n",
    "\n",
    "**Для каждой позиции исходного рида и соответствующей позиции скорректированного рида смотрим:**   \n",
    "    \n",
    "1. если исходная позиция выровнялась правильно, а скорректированная - неправильно, считаем это Falsely corrected error\n",
    "\n",
    "2. если исходная и скорректированная позиции выровнялись правильно, считаем это Correctly unmodified base\n",
    "\n",
    "3. если исходная позиция выровнялась неправильно, а соответствующая скорректированная стала правильной - это Detected & corrected error\n",
    "\n",
    "4. если и исходная, и скорректированная позиции выровнялись неправильно - это Undetected error\n",
    "\n",
    "5. если исходная позиция была правильной, а скорректированная удалена (заменена буквой N) - это Incorrectly removed base\n",
    "\n",
    "6. если исходная позиция была неправильной, а скорректированная удалена - это Detected and removed error"
   ]
  },
  {
   "cell_type": "code",
   "execution_count": 52,
   "metadata": {},
   "outputs": [],
   "source": [
    "def estimateErrors(originalFileName, correctedFileName):\n",
    "\n",
    "    original_align = pysam.AlignmentFile(originalFileName, \"rb\" )\n",
    "    corrected_align = pysam.AlignmentFile(correctedFileName, \"rb\" )\n",
    "\n",
    "    mdTags = 0\n",
    "    count = 0\n",
    "\n",
    "    undetected = 0\n",
    "    detectedAndCorrected = 0 \n",
    "    detectedAndRemoved = 0\n",
    "    falselyCorrected = 0\n",
    "    correctlyUnmodified = 0\n",
    "    incorrectlyRemoved = 0\n",
    "\n",
    "    total=0\n",
    "    for original_read, corrected_read in zip(original_align.fetch(), corrected_align.fetch()):\n",
    "        try:\n",
    "            total+=1\n",
    "            if(original_read.cigartuples is None or original_read.cigartuples is None):\n",
    "                continue\n",
    "            origin_query = original_read.query_sequence\n",
    "            origin_aligns = original_read.get_aligned_pairs(matches_only = True, with_seq = True)\n",
    "            corrected_query = corrected_read.query_sequence\n",
    "            corrected_aligns = corrected_read.get_aligned_pairs(matches_only = True, with_seq = True)\n",
    "\n",
    "            for original_tuple, corrected_tuple in zip(origin_aligns, corrected_aligns):\n",
    "                if(original_tuple[0]!=corrected_tuple[0] and original_tuple[1]!=corrected_tuple[1]):\n",
    "                    continue\n",
    "\n",
    "                origin_base = origin_query[original_tuple[0]] #нуклеотид в исходном риде\n",
    "                corrected_base = corrected_query[corrected_tuple[0]] #нуклеотид в скорректированном риде\n",
    "                if(origin_base != original_tuple[2] and corrected_base == \"N\"):\n",
    "                    detectedAndRemoved+=1\n",
    "                elif(origin_base != original_tuple[2] and corrected_base == corrected_tuple[2]): #_tuple[2] - нуклеотид в референсе\n",
    "                    detectedAndCorrected+=1\n",
    "                elif(origin_base != original_tuple[2] and corrected_base != corrected_tuple[2]):\n",
    "                    undetected+=1\n",
    "                elif(origin_base == original_tuple[2] and corrected_base == \"N\"):\n",
    "                    incorrectlyRemoved+=1\n",
    "                elif(origin_base == original_tuple[2] and corrected_base != corrected_tuple[2]):\n",
    "                    falselyCorrected+=1\n",
    "                elif(origin_base == original_tuple[2] and corrected_base == corrected_tuple[2]):\n",
    "                    correctlyUnmodified+=1\n",
    "                        \n",
    "        except ValueError:\n",
    "            mdTags+=1\n",
    "\n",
    "    df = pd.DataFrame([[\"Error in raw data\", \"\", \"\", \"\"], [\"Correct base in raw data\", \"\", \"\", \"\"]], columns = [\"-\", \"Error in corrected reads\", \"Correct base in corrected reads\", \"Base is absent in corrected reads\"])\n",
    "    df = df.set_index(df.columns[0])\n",
    "    df.loc[\"Error in raw data\", \"Error in corrected reads\"]=undetected\n",
    "    df.loc[\"Error in raw data\", \"Correct base in corrected reads\"]=detectedAndCorrected\n",
    "    df.loc[\"Error in raw data\", \"Base is absent in corrected reads\"]=detectedAndRemoved\n",
    "\n",
    "    df.loc[\"Correct base in raw data\", \"Error in corrected reads\"]=falselyCorrected\n",
    "    df.loc[\"Correct base in raw data\", \"Correct base in corrected reads\"]=correctlyUnmodified\n",
    "    df.loc[\"Correct base in raw data\", \"Base is absent in corrected reads\"]=incorrectlyRemoved\n",
    "    return df\n"
   ]
  },
  {
   "cell_type": "markdown",
   "metadata": {},
   "source": [
    "## Trimmomatic:"
   ]
  },
  {
   "cell_type": "code",
   "execution_count": 53,
   "metadata": {
    "tags": [
     "outputPrepend",
     "outputPrepend",
     "outputPrepend",
     "outputPrepend",
     "outputPrepend",
     "outputPrepend",
     "outputPrepend",
     "outputPrepend",
     "outputPrepend",
     "outputPrepend",
     "outputPrepend",
     "outputPrepend",
     "outputPrepend",
     "outputPrepend"
    ]
   },
   "outputs": [
    {
     "output_type": "execute_result",
     "data": {
      "text/html": "<div>\n<style scoped>\n    .dataframe tbody tr th:only-of-type {\n        vertical-align: middle;\n    }\n\n    .dataframe tbody tr th {\n        vertical-align: top;\n    }\n\n    .dataframe thead th {\n        text-align: right;\n    }\n</style>\n<table border=\"1\" class=\"dataframe\">\n  <thead>\n    <tr style=\"text-align: right;\">\n      <th></th>\n      <th>Error in corrected reads</th>\n      <th>Correct base in corrected reads</th>\n      <th>Base is absent in corrected reads</th>\n    </tr>\n    <tr>\n      <th>-</th>\n      <th></th>\n      <th></th>\n      <th></th>\n    </tr>\n  </thead>\n  <tbody>\n    <tr>\n      <th>Error in raw data</th>\n      <td>8599</td>\n      <td>1894125</td>\n      <td>1062</td>\n    </tr>\n    <tr>\n      <th>Correct base in raw data</th>\n      <td>860901</td>\n      <td>227079568</td>\n      <td>133216</td>\n    </tr>\n  </tbody>\n</table>\n</div>",
      "text/plain": "                          Error in corrected reads  \\\n-                                                    \nError in raw data                             8599   \nCorrect base in raw data                    860901   \n\n                          Correct base in corrected reads  \\\n-                                                           \nError in raw data                                 1894125   \nCorrect base in raw data                        227079568   \n\n                          Base is absent in corrected reads  \n-                                                            \nError in raw data                                      1062  \nCorrect base in raw data                             133216  "
     },
     "metadata": {},
     "execution_count": 53
    }
   ],
   "source": [
    "estimateErrors(\"/mnt/d/NGS/data/HW4/original2.bam\", \"/mnt/d/NGS/data/HW4/trim2.bam\")"
   ]
  },
  {
   "cell_type": "markdown",
   "metadata": {},
   "source": [
    "## SPAdes / BayesHammer:"
   ]
  },
  {
   "cell_type": "markdown",
   "metadata": {},
   "source": [
    "bwa mem reference.fasta bayeshammer/corrected/ecoli_400K_err_1.00.0_0.cor.fastq.gz bayeshammer/corrected/ecoli_400K_err_2.00.0_0.cor.fastq.gz | samtools sort -o bayeshammer.bam"
   ]
  },
  {
   "cell_type": "code",
   "execution_count": 49,
   "metadata": {},
   "outputs": [
    {
     "output_type": "execute_result",
     "data": {
      "text/html": "<div>\n<style scoped>\n    .dataframe tbody tr th:only-of-type {\n        vertical-align: middle;\n    }\n\n    .dataframe tbody tr th {\n        vertical-align: top;\n    }\n\n    .dataframe thead th {\n        text-align: right;\n    }\n</style>\n<table border=\"1\" class=\"dataframe\">\n  <thead>\n    <tr style=\"text-align: right;\">\n      <th></th>\n      <th>Error in corrected reads</th>\n      <th>Correct base in corrected reads</th>\n      <th>Base is absent in corrected reads</th>\n    </tr>\n    <tr>\n      <th>-</th>\n      <th></th>\n      <th></th>\n      <th></th>\n    </tr>\n  </thead>\n  <tbody>\n    <tr>\n      <th>Error in raw data</th>\n      <td>1644</td>\n      <td>1677445</td>\n      <td>6247</td>\n    </tr>\n    <tr>\n      <th>Correct base in raw data</th>\n      <td>166381</td>\n      <td>198884517</td>\n      <td>394421</td>\n    </tr>\n  </tbody>\n</table>\n</div>",
      "text/plain": "                          Error in corrected reads  \\\n-                                                    \nError in raw data                             1644   \nCorrect base in raw data                    166381   \n\n                          Correct base in corrected reads  \\\n-                                                           \nError in raw data                                 1677445   \nCorrect base in raw data                        198884517   \n\n                          Base is absent in corrected reads  \n-                                                            \nError in raw data                                      6247  \nCorrect base in raw data                             394421  "
     },
     "metadata": {},
     "execution_count": 49
    }
   ],
   "source": [
    "estimateErrors(\"/mnt/d/NGS/data/HW4/original2.bam\", \"/mnt/d/NGS/data/HW4/bayeshammer.bam\")"
   ]
  },
  {
   "cell_type": "code",
   "execution_count": null,
   "metadata": {},
   "outputs": [],
   "source": []
  },
  {
   "cell_type": "code",
   "execution_count": null,
   "metadata": {},
   "outputs": [],
   "source": []
  }
 ],
 "metadata": {
  "language_info": {
   "name": "python",
   "codemirror_mode": {
    "name": "ipython",
    "version": 3
   },
   "version": "3.6.7-final"
  },
  "orig_nbformat": 2,
  "file_extension": ".py",
  "mimetype": "text/x-python",
  "name": "python",
  "npconvert_exporter": "python",
  "pygments_lexer": "ipython3",
  "version": 3,
  "kernelspec": {
   "name": "python36764bitqiime2conda34c7ba42efd5400ab9cd042bd98524c4",
   "display_name": "Python 3.6.7 64-bit ('qiime2': conda)"
  }
 },
 "nbformat": 4,
 "nbformat_minor": 2
}