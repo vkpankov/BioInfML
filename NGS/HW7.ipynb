{
 "nbformat": 4,
 "nbformat_minor": 2,
 "metadata": {
  "language_info": {
   "name": "python",
   "codemirror_mode": {
    "name": "ipython",
    "version": 3
   },
   "version": "3.7.0-final"
  },
  "orig_nbformat": 2,
  "file_extension": ".py",
  "mimetype": "text/x-python",
  "name": "python",
  "npconvert_exporter": "python",
  "pygments_lexer": "ipython3",
  "version": 3,
  "kernelspec": {
   "name": "python3",
   "display_name": "Python 3"
  }
 },
 "cells": [
  {
   "cell_type": "markdown",
   "metadata": {},
   "source": [
    "## ДЗ 4. Панков Викентий\n",
    "\n",
    "## 1. Выровняем риды:\n",
    " ./hisat2-2.2.0/hisat2 refout -1 SRR453566_1.fastq -2 SRR453566_2.fastq > output.gff"
   ]
  },
  {
   "cell_type": "markdown",
   "metadata": {},
   "source": [
    "## 2. Оценим количество экспрессирующихся генов.  \n",
    "Получим статистику по количеству ридов на ген:  \n",
    " htseq-count output.sam genes.gtf  \n",
    "Получим статистику по размерам генов:  \n",
    " awk -F \"\\t\" '$3==\"transcript\"{print $9 $5-$4}' genes.gtf > output_length.txt\n",
    " \n",
    "Расчитаем TPM:"
   ]
  },
  {
   "cell_type": "code",
   "execution_count": 72,
   "metadata": {},
   "outputs": [],
   "source": [
    "import pandas as pd\n",
    "\n",
    "lengths = pd.read_csv(\"genes_lengths.txt\", sep = \" \", index_col = False).set_index(\"gene\")\n",
    "readcounts = pd.read_csv(\"genes_stat.txt\", sep = \" \", index_col = False).set_index(\"gene\")\n",
    ""
   ]
  },
  {
   "cell_type": "code",
   "execution_count": 84,
   "metadata": {},
   "outputs": [
    {
     "output_type": "execute_result",
     "data": {
      "text/plain": "           gene_length  mapped_reads             A          TPM\ngene                                                           \nYDL232W            110           144  18724.901518   493.389361\nYDL229W           1841          5112  39717.947001  1046.542886\nYDL228C            641          2635  58799.322945  1549.325123\nYDL213C            677           262   5535.570139   145.858786\nYDL212W            632           565  12787.366269   336.939047\n...                ...           ...           ...          ...\nYAL005C           1928          1390  10312.346711   271.723840\nYAL004W            647           445   9837.969360   259.224296\nYAL003W            986          2599  37703.277095   993.457603\nYAR002C-A          659           576  12502.210422   329.425370\nYAR015W            920          1235  19201.221854   505.940101\n\n[1094 rows x 4 columns]",
      "text/html": "<div>\n<style scoped>\n    .dataframe tbody tr th:only-of-type {\n        vertical-align: middle;\n    }\n\n    .dataframe tbody tr th {\n        vertical-align: top;\n    }\n\n    .dataframe thead th {\n        text-align: right;\n    }\n</style>\n<table border=\"1\" class=\"dataframe\">\n  <thead>\n    <tr style=\"text-align: right;\">\n      <th></th>\n      <th>gene_length</th>\n      <th>mapped_reads</th>\n      <th>A</th>\n      <th>TPM</th>\n    </tr>\n    <tr>\n      <th>gene</th>\n      <th></th>\n      <th></th>\n      <th></th>\n      <th></th>\n    </tr>\n  </thead>\n  <tbody>\n    <tr>\n      <th>YDL232W</th>\n      <td>110</td>\n      <td>144</td>\n      <td>18724.901518</td>\n      <td>493.389361</td>\n    </tr>\n    <tr>\n      <th>YDL229W</th>\n      <td>1841</td>\n      <td>5112</td>\n      <td>39717.947001</td>\n      <td>1046.542886</td>\n    </tr>\n    <tr>\n      <th>YDL228C</th>\n      <td>641</td>\n      <td>2635</td>\n      <td>58799.322945</td>\n      <td>1549.325123</td>\n    </tr>\n    <tr>\n      <th>YDL213C</th>\n      <td>677</td>\n      <td>262</td>\n      <td>5535.570139</td>\n      <td>145.858786</td>\n    </tr>\n    <tr>\n      <th>YDL212W</th>\n      <td>632</td>\n      <td>565</td>\n      <td>12787.366269</td>\n      <td>336.939047</td>\n    </tr>\n    <tr>\n      <th>...</th>\n      <td>...</td>\n      <td>...</td>\n      <td>...</td>\n      <td>...</td>\n    </tr>\n    <tr>\n      <th>YAL005C</th>\n      <td>1928</td>\n      <td>1390</td>\n      <td>10312.346711</td>\n      <td>271.723840</td>\n    </tr>\n    <tr>\n      <th>YAL004W</th>\n      <td>647</td>\n      <td>445</td>\n      <td>9837.969360</td>\n      <td>259.224296</td>\n    </tr>\n    <tr>\n      <th>YAL003W</th>\n      <td>986</td>\n      <td>2599</td>\n      <td>37703.277095</td>\n      <td>993.457603</td>\n    </tr>\n    <tr>\n      <th>YAR002C-A</th>\n      <td>659</td>\n      <td>576</td>\n      <td>12502.210422</td>\n      <td>329.425370</td>\n    </tr>\n    <tr>\n      <th>YAR015W</th>\n      <td>920</td>\n      <td>1235</td>\n      <td>19201.221854</td>\n      <td>505.940101</td>\n    </tr>\n  </tbody>\n</table>\n<p>1094 rows × 4 columns</p>\n</div>"
     },
     "metadata": {},
     "execution_count": 84
    }
   ],
   "source": [
    "read_length = 102\n",
    "genes_number = len(readcounts)\n",
    "\n",
    "merged = pd.merge(lengths[[\"gene_length\"]], readcounts, left_index=True, right_index=True)\n",
    "#merged = merged[merged.mapped_reads > 0]\n",
    "merged[\"A\"] = merged.mapped_reads*read_length*10**6/(merged.gene_length*genes_number)\n",
    "\n",
    "merged[\"TPM\"] = merged.A / merged.A.sum() * 10**6\n",
    "\n",
    "\n",
    "mean_tpm = merged.TPM.mean()\n",
    "merged[merged.TPM > mean_tpm]"
   ]
  },
  {
   "cell_type": "markdown",
   "metadata": {},
   "source": [
    "## 3. Соберём РНК-сборку и оценим качество:  \n",
    "rnaspades -1 SRR453566_1.fastq -2 SRR453566_2.fastq -o rna_assembly  \n",
    "python rnaquast/rnaQUAST.py -r ref.fa -c rna_assembly/transcripts.fasta -o rna_quast_output\n"
   ]
  },
  {
   "cell_type": "markdown",
   "metadata": {},
   "source": [
    "Avg. aligned fraction                                  0.984                    \n",
    "Avg. alignment length                                  1514.783                 \n",
    "Avg. mismatches per transcript                         3.19  \n",
    "**95%-covered genes 3976**  \n",
    "**50%-assembled isoforms 4186**"
   ]
  },
  {
   "cell_type": "code",
   "execution_count": null,
   "metadata": {},
   "outputs": [],
   "source": []
  }
 ]
}