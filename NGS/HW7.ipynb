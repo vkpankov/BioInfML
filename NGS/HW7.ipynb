{
 "nbformat": 4,
 "nbformat_minor": 2,
 "metadata": {
  "language_info": {
   "name": "python",
   "codemirror_mode": {
    "name": "ipython",
    "version": 3
   },
   "version": "3.7.0-final"
  },
  "orig_nbformat": 2,
  "file_extension": ".py",
  "mimetype": "text/x-python",
  "name": "python",
  "npconvert_exporter": "python",
  "pygments_lexer": "ipython3",
  "version": 3,
  "kernelspec": {
   "name": "python3",
   "display_name": "Python 3"
  }
 },
 "cells": [
  {
   "cell_type": "markdown",
   "metadata": {},
   "source": [
    "## ДЗ 4. Панков Викентий\n",
    "\n",
    "## 1. Выровняем риды:\n",
    " ./hisat2-2.2.0/hisat2 refout -1 SRR453566_1.fastq -2 SRR453566_2.fastq > output.gff"
   ]
  },
  {
   "cell_type": "markdown",
   "metadata": {},
   "source": [
    "## 2. Оценим количество экспрессирующихся генов.  \n",
    "Получим статистику по количеству ридов на ген:  \n",
    " htseq-count output.sam genes.gtf  \n",
    "Получим статистику по размерам генов:\n",
    "\n",
    "Расчитаем TPM:"
   ]
  },
  {
   "cell_type": "code",
   "execution_count": 69,
   "metadata": {},
   "outputs": [],
   "source": [
    "import pandas as pd\n",
    "\n",
    "lengths = pd.read_csv(\"genes_lengths.txt\", sep = \"\\t\", index_col = False).set_index(\"gene\").rename(columns={\"median\": \"gene_length\"})\n",
    "readcounts = pd.read_csv(\"genes_stat.txt\", sep = \" \", index_col = False).set_index(\"gene\")\n",
    ""
   ]
  },
  {
   "cell_type": "code",
   "execution_count": 66,
   "metadata": {},
   "outputs": [
    {
     "output_type": "execute_result",
     "data": {
      "text/plain": "           gene_length  mapped_reads            A          TPM\ngene                                                          \nYJR023C            402            30  1067.443598   461.681867\nYJR134C           2124           231  1555.633199   672.829591\nYJL155C           1359           105  1105.145800   477.988511\nYJL122W            528           179  4849.186012  2097.329783\nYJL185C            882            20   324.347941   140.284286\n...                ...           ...          ...          ...\nYJR066W           7413           239   461.162130   199.458026\nYJR144W            810           174  3072.656165  1328.959803\nYJL156W-A          222            40  2577.251210  1114.691354\nsnR190             190            10   752.828643   325.607211\nYJR074W            657           154  3352.780227  1450.116743\n\n[433 rows x 4 columns]",
      "text/html": "<div>\n<style scoped>\n    .dataframe tbody tr th:only-of-type {\n        vertical-align: middle;\n    }\n\n    .dataframe tbody tr th {\n        vertical-align: top;\n    }\n\n    .dataframe thead th {\n        text-align: right;\n    }\n</style>\n<table border=\"1\" class=\"dataframe\">\n  <thead>\n    <tr style=\"text-align: right;\">\n      <th></th>\n      <th>gene_length</th>\n      <th>mapped_reads</th>\n      <th>A</th>\n      <th>TPM</th>\n    </tr>\n    <tr>\n      <th>gene</th>\n      <th></th>\n      <th></th>\n      <th></th>\n      <th></th>\n    </tr>\n  </thead>\n  <tbody>\n    <tr>\n      <th>YJR023C</th>\n      <td>402</td>\n      <td>30</td>\n      <td>1067.443598</td>\n      <td>461.681867</td>\n    </tr>\n    <tr>\n      <th>YJR134C</th>\n      <td>2124</td>\n      <td>231</td>\n      <td>1555.633199</td>\n      <td>672.829591</td>\n    </tr>\n    <tr>\n      <th>YJL155C</th>\n      <td>1359</td>\n      <td>105</td>\n      <td>1105.145800</td>\n      <td>477.988511</td>\n    </tr>\n    <tr>\n      <th>YJL122W</th>\n      <td>528</td>\n      <td>179</td>\n      <td>4849.186012</td>\n      <td>2097.329783</td>\n    </tr>\n    <tr>\n      <th>YJL185C</th>\n      <td>882</td>\n      <td>20</td>\n      <td>324.347941</td>\n      <td>140.284286</td>\n    </tr>\n    <tr>\n      <th>...</th>\n      <td>...</td>\n      <td>...</td>\n      <td>...</td>\n      <td>...</td>\n    </tr>\n    <tr>\n      <th>YJR066W</th>\n      <td>7413</td>\n      <td>239</td>\n      <td>461.162130</td>\n      <td>199.458026</td>\n    </tr>\n    <tr>\n      <th>YJR144W</th>\n      <td>810</td>\n      <td>174</td>\n      <td>3072.656165</td>\n      <td>1328.959803</td>\n    </tr>\n    <tr>\n      <th>YJL156W-A</th>\n      <td>222</td>\n      <td>40</td>\n      <td>2577.251210</td>\n      <td>1114.691354</td>\n    </tr>\n    <tr>\n      <th>snR190</th>\n      <td>190</td>\n      <td>10</td>\n      <td>752.828643</td>\n      <td>325.607211</td>\n    </tr>\n    <tr>\n      <th>YJR074W</th>\n      <td>657</td>\n      <td>154</td>\n      <td>3352.780227</td>\n      <td>1450.116743</td>\n    </tr>\n  </tbody>\n</table>\n<p>433 rows × 4 columns</p>\n</div>"
     },
     "metadata": {},
     "execution_count": 66
    }
   ],
   "source": [
    "read_length = 102\n",
    "genes_number = len(readcounts)\n",
    "\n",
    "merged = pd.merge(lengths[[\"gene_length\"]], readcounts, left_index=True, right_index=True)\n",
    "#merged = merged[merged.mapped_reads > 0]\n",
    "merged[\"A\"] = merged.mapped_reads*read_length*10**6/(merged.gene_length*genes_number)\n",
    "\n",
    "merged[\"TPM\"] = merged.A / merged.A.sum() * 10**6\n",
    "\n",
    "\n",
    "merged"
   ]
  },
  {
   "cell_type": "code",
   "execution_count": 67,
   "metadata": {},
   "outputs": [
    {
     "output_type": "execute_result",
     "data": {
      "text/plain": "                        mapped_reads\ngene                                \n15S_rRNA                           2\n21S_rRNA                          22\nHRA1                              43\nICR1                              37\nLSR1                              54\n...                              ...\n__no_feature                 2141695\n__ambiguous                    31420\n__too_low_aQual               587806\n__not_aligned                 400120\n__alignment_not_unique        283709\n\n[7131 rows x 1 columns]",
      "text/html": "<div>\n<style scoped>\n    .dataframe tbody tr th:only-of-type {\n        vertical-align: middle;\n    }\n\n    .dataframe tbody tr th {\n        vertical-align: top;\n    }\n\n    .dataframe thead th {\n        text-align: right;\n    }\n</style>\n<table border=\"1\" class=\"dataframe\">\n  <thead>\n    <tr style=\"text-align: right;\">\n      <th></th>\n      <th>mapped_reads</th>\n    </tr>\n    <tr>\n      <th>gene</th>\n      <th></th>\n    </tr>\n  </thead>\n  <tbody>\n    <tr>\n      <th>15S_rRNA</th>\n      <td>2</td>\n    </tr>\n    <tr>\n      <th>21S_rRNA</th>\n      <td>22</td>\n    </tr>\n    <tr>\n      <th>HRA1</th>\n      <td>43</td>\n    </tr>\n    <tr>\n      <th>ICR1</th>\n      <td>37</td>\n    </tr>\n    <tr>\n      <th>LSR1</th>\n      <td>54</td>\n    </tr>\n    <tr>\n      <th>...</th>\n      <td>...</td>\n    </tr>\n    <tr>\n      <th>__no_feature</th>\n      <td>2141695</td>\n    </tr>\n    <tr>\n      <th>__ambiguous</th>\n      <td>31420</td>\n    </tr>\n    <tr>\n      <th>__too_low_aQual</th>\n      <td>587806</td>\n    </tr>\n    <tr>\n      <th>__not_aligned</th>\n      <td>400120</td>\n    </tr>\n    <tr>\n      <th>__alignment_not_unique</th>\n      <td>283709</td>\n    </tr>\n  </tbody>\n</table>\n<p>7131 rows × 1 columns</p>\n</div>"
     },
     "metadata": {},
     "execution_count": 67
    }
   ],
   "source": [
    "readcounts"
   ]
  },
  {
   "cell_type": "code",
   "execution_count": 70,
   "metadata": {},
   "outputs": [
    {
     "output_type": "execute_result",
     "data": {
      "text/plain": "           mean  gene_length  longest_isoform  merged\ngene                                                 \nYJR023C     402          402              402     402\nYJR134C    2124         2124             2124    2124\nYJL155C    1359         1359             1359    1359\nYJL122W     528          528              528     528\nYJL185C     882          882              882     882\n...         ...          ...              ...     ...\nYJR066W    7413         7413             7413    7413\nYJR144W     810          810              810     810\nYJL156W-A   222          222              222     222\nsnR190      190          190              190     190\nYJR074W     657          657              657     657\n\n[433 rows x 4 columns]",
      "text/html": "<div>\n<style scoped>\n    .dataframe tbody tr th:only-of-type {\n        vertical-align: middle;\n    }\n\n    .dataframe tbody tr th {\n        vertical-align: top;\n    }\n\n    .dataframe thead th {\n        text-align: right;\n    }\n</style>\n<table border=\"1\" class=\"dataframe\">\n  <thead>\n    <tr style=\"text-align: right;\">\n      <th></th>\n      <th>mean</th>\n      <th>gene_length</th>\n      <th>longest_isoform</th>\n      <th>merged</th>\n    </tr>\n    <tr>\n      <th>gene</th>\n      <th></th>\n      <th></th>\n      <th></th>\n      <th></th>\n    </tr>\n  </thead>\n  <tbody>\n    <tr>\n      <th>YJR023C</th>\n      <td>402</td>\n      <td>402</td>\n      <td>402</td>\n      <td>402</td>\n    </tr>\n    <tr>\n      <th>YJR134C</th>\n      <td>2124</td>\n      <td>2124</td>\n      <td>2124</td>\n      <td>2124</td>\n    </tr>\n    <tr>\n      <th>YJL155C</th>\n      <td>1359</td>\n      <td>1359</td>\n      <td>1359</td>\n      <td>1359</td>\n    </tr>\n    <tr>\n      <th>YJL122W</th>\n      <td>528</td>\n      <td>528</td>\n      <td>528</td>\n      <td>528</td>\n    </tr>\n    <tr>\n      <th>YJL185C</th>\n      <td>882</td>\n      <td>882</td>\n      <td>882</td>\n      <td>882</td>\n    </tr>\n    <tr>\n      <th>...</th>\n      <td>...</td>\n      <td>...</td>\n      <td>...</td>\n      <td>...</td>\n    </tr>\n    <tr>\n      <th>YJR066W</th>\n      <td>7413</td>\n      <td>7413</td>\n      <td>7413</td>\n      <td>7413</td>\n    </tr>\n    <tr>\n      <th>YJR144W</th>\n      <td>810</td>\n      <td>810</td>\n      <td>810</td>\n      <td>810</td>\n    </tr>\n    <tr>\n      <th>YJL156W-A</th>\n      <td>222</td>\n      <td>222</td>\n      <td>222</td>\n      <td>222</td>\n    </tr>\n    <tr>\n      <th>snR190</th>\n      <td>190</td>\n      <td>190</td>\n      <td>190</td>\n      <td>190</td>\n    </tr>\n    <tr>\n      <th>YJR074W</th>\n      <td>657</td>\n      <td>657</td>\n      <td>657</td>\n      <td>657</td>\n    </tr>\n  </tbody>\n</table>\n<p>433 rows × 4 columns</p>\n</div>"
     },
     "metadata": {},
     "execution_count": 70
    }
   ],
   "source": [
    "lengths"
   ]
  },
  {
   "cell_type": "markdown",
   "metadata": {},
   "source": [
    "## 3. Соберём РНК-сборку и оценим качество:  \n",
    "rnaspades -1 SRR453566_1.fastq -2 SRR453566_2.fastq -o rna_assembly  \n",
    "python rnaquast/rnaQUAST.py -r ref.fa -c rna_assembly/transcripts.fasta -o rna_quast_output\n"
   ]
  },
  {
   "cell_type": "markdown",
   "metadata": {},
   "source": [
    "Avg. aligned fraction                                  0.984                    \n",
    "Avg. alignment length                                  1514.783                 \n",
    "Avg. mismatches per transcript                         3.19"
   ]
  },
  {
   "cell_type": "code",
   "execution_count": null,
   "metadata": {},
   "outputs": [],
   "source": []
  }
 ]
}