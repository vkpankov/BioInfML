{
 "nbformat": 4,
 "nbformat_minor": 2,
 "metadata": {
  "language_info": {
   "name": "python",
   "codemirror_mode": {
    "name": "ipython",
    "version": 3
   },
   "version": "3.8.1-final"
  },
  "orig_nbformat": 2,
  "file_extension": ".py",
  "mimetype": "text/x-python",
  "name": "python",
  "npconvert_exporter": "python",
  "pygments_lexer": "ipython3",
  "version": 3,
  "kernelspec": {
   "name": "python3",
   "display_name": "Python 3"
  }
 },
 "cells": [
  {
   "cell_type": "markdown",
   "metadata": {},
   "source": [
    "## HW2. Part 1"
   ]
  },
  {
   "cell_type": "code",
   "execution_count": 1,
   "metadata": {},
   "outputs": [],
   "source": [
    "import Bio\n",
    "from Bio import Entrez\n",
    "from Bio import SeqIO\n",
    ""
   ]
  },
  {
   "cell_type": "code",
   "execution_count": 2,
   "metadata": {},
   "outputs": [],
   "source": [
    "Entrez.email = 'vkpankov@gmail.com'"
   ]
  },
  {
   "cell_type": "code",
   "execution_count": 3,
   "metadata": {},
   "outputs": [],
   "source": [
    "def nucleotideSearch(query):\n",
    "    handle = Entrez.esearch(db=\"nucleotide\", term=query, retmode=\"xml\")\n",
    "    #xml = handle.read(-1)\n",
    "    foundIds = Entrez.read(handle)\n",
    "    handle.close()\n",
    "    return foundIds[\"IdList\"]"
   ]
  },
  {
   "cell_type": "code",
   "execution_count": 5,
   "metadata": {},
   "outputs": [
    {
     "output_type": "stream",
     "name": "stdout",
     "text": "dict_keys(['DbList'])\n['pubmed', 'protein', 'nuccore', 'ipg', 'nucleotide', 'structure', 'sparcle', 'genome', 'annotinfo', 'assembly', 'bioproject', 'biosample', 'blastdbinfo', 'books', 'cdd', 'clinvar', 'gap', 'gapplus', 'grasp', 'dbvar', 'gene', 'gds', 'geoprofiles', 'homologene', 'medgen', 'mesh', 'ncbisearch', 'nlmcatalog', 'omim', 'orgtrack', 'pmc', 'popset', 'probe', 'proteinclusters', 'pcassay', 'biosystems', 'pccompound', 'pcsubstance', 'seqannot', 'snp', 'sra', 'taxonomy', 'biocollections', 'gtr']\n"
    }
   ],
   "source": [
    "handle = Entrez.einfo()\n",
    "record = Entrez.read(handle)\n",
    "print(record.keys())\n",
    "print(record[\"DbList\"])\n",
    ""
   ]
  },
  {
   "cell_type": "code",
   "execution_count": 6,
   "metadata": {},
   "outputs": [
    {
     "output_type": "execute_result",
     "data": {
      "text/plain": "['1821002271', '1821002269', '1820906405', '1820906403', '1820641753', '1820641751', '1820641749', '1820580734', '1820562185', '1820337608', '1819938648', '1818827819', '1818032691', '1800052247', '1800052245', '1800052243', '1800052241', '1800052239', '1800052237', '262205230']"
     },
     "metadata": {},
     "execution_count": 6
    }
   ],
   "source": [
    "nucleotideSearch(\"GSPT1\")"
   ]
  },
  {
   "cell_type": "code",
   "execution_count": 7,
   "metadata": {},
   "outputs": [
    {
     "output_type": "stream",
     "name": "stdout",
     "text": "['12890024', '11932450', '10692163', '18332119', '28537243', '19411620', '19371377', '20009538', '23965990', '15326312', '21454674', '16123127', '28369054', '18757753', '12839621', '25850301', '17320905', '10678178', '21453425', '24727082', '23382698', '16272413', '9724418', '16382152', '11606530', '12925776', '21453424', '22156730', '22095075', '15282319', '16364534', '18381282', '20107602', '9755180', '11511345', '16491470', '15956663', '19752212', '22260056', '17969880', '21631606', '10752025', '14704158', '16757178', '19164896', '17415568', '15618222', '19124570', '20484678', '11331577', '15009892', '22573320', '8670813', '28035761', '21832086', '22536159', '11281322', '28521568', '8978027', '12149514', '19164897', '27814358', '12177423', '25131596', '16582428', '17034622', '20444092', '23177195', '21402947', '22156729', '10654931', '21980301', '15029195', '10471702', '31299085', '19164928', '21760933', '15126688', '21467567', '12461168', '9335589', '11766884', '27830682', '19098443', '16427819', '26490118', '11511346', '22949655', '17673909', '25568955', '18537542', '19056735', '30664652', '30871095', '29979963', '24579315', '31355208', '18991771', '29358686']\n"
    }
   ],
   "source": [
    "handle = Entrez.elink(dbfrom=\"pubmed\", id='12890024', linkname=\"pubmed_pubmed\")\n",
    "    #xml = handle.read(-1)\n",
    "foundIds = Entrez.read(handle)\n",
    "handle.close()\n",
    "links = [link[\"Id\"] for link in foundIds[0][\"LinkSetDb\"][0][\"Link\"]]\n",
    "print(links)\n",
    "\n",
    ""
   ]
  },
  {
   "cell_type": "code",
   "execution_count": 8,
   "metadata": {},
   "outputs": [
    {
     "output_type": "execute_result",
     "data": {
      "text/plain": "           AccessionNumber SequenceLength\nUID                                      \n1821002271    XM_032911755           2334\n1821002269    XM_032911754           2619\n1820906405    XM_032836286           2026\n1820906403    XM_032836285           2631\n1820641753    XM_032774010           4622\n1820641751    XM_032774002           4656\n1820641749    XM_032773995           3703\n1820580734    XM_030285238           4588\n1820562185       NC_046162       96709702\n1820337608    NW_022640588        1094673\n1819938648    NW_022631085        8311899\n1818827819    NW_022611665       42084912\n1818032691       NC_045013       16445707\n1800052247    XM_032145203           6877\n1800052245    XM_032145202           7104\n1800052243    XM_032145201           6875\n1800052241    XM_032145200           6878\n1800052239    XM_032145199           7155\n1800052237    XM_032145197           7158\n262205230        NR_029665             97",
      "text/html": "<div>\n<style scoped>\n    .dataframe tbody tr th:only-of-type {\n        vertical-align: middle;\n    }\n\n    .dataframe tbody tr th {\n        vertical-align: top;\n    }\n\n    .dataframe thead th {\n        text-align: right;\n    }\n</style>\n<table border=\"1\" class=\"dataframe\">\n  <thead>\n    <tr style=\"text-align: right;\">\n      <th></th>\n      <th>AccessionNumber</th>\n      <th>SequenceLength</th>\n    </tr>\n    <tr>\n      <th>UID</th>\n      <th></th>\n      <th></th>\n    </tr>\n  </thead>\n  <tbody>\n    <tr>\n      <th>1821002271</th>\n      <td>XM_032911755</td>\n      <td>2334</td>\n    </tr>\n    <tr>\n      <th>1821002269</th>\n      <td>XM_032911754</td>\n      <td>2619</td>\n    </tr>\n    <tr>\n      <th>1820906405</th>\n      <td>XM_032836286</td>\n      <td>2026</td>\n    </tr>\n    <tr>\n      <th>1820906403</th>\n      <td>XM_032836285</td>\n      <td>2631</td>\n    </tr>\n    <tr>\n      <th>1820641753</th>\n      <td>XM_032774010</td>\n      <td>4622</td>\n    </tr>\n    <tr>\n      <th>1820641751</th>\n      <td>XM_032774002</td>\n      <td>4656</td>\n    </tr>\n    <tr>\n      <th>1820641749</th>\n      <td>XM_032773995</td>\n      <td>3703</td>\n    </tr>\n    <tr>\n      <th>1820580734</th>\n      <td>XM_030285238</td>\n      <td>4588</td>\n    </tr>\n    <tr>\n      <th>1820562185</th>\n      <td>NC_046162</td>\n      <td>96709702</td>\n    </tr>\n    <tr>\n      <th>1820337608</th>\n      <td>NW_022640588</td>\n      <td>1094673</td>\n    </tr>\n    <tr>\n      <th>1819938648</th>\n      <td>NW_022631085</td>\n      <td>8311899</td>\n    </tr>\n    <tr>\n      <th>1818827819</th>\n      <td>NW_022611665</td>\n      <td>42084912</td>\n    </tr>\n    <tr>\n      <th>1818032691</th>\n      <td>NC_045013</td>\n      <td>16445707</td>\n    </tr>\n    <tr>\n      <th>1800052247</th>\n      <td>XM_032145203</td>\n      <td>6877</td>\n    </tr>\n    <tr>\n      <th>1800052245</th>\n      <td>XM_032145202</td>\n      <td>7104</td>\n    </tr>\n    <tr>\n      <th>1800052243</th>\n      <td>XM_032145201</td>\n      <td>6875</td>\n    </tr>\n    <tr>\n      <th>1800052241</th>\n      <td>XM_032145200</td>\n      <td>6878</td>\n    </tr>\n    <tr>\n      <th>1800052239</th>\n      <td>XM_032145199</td>\n      <td>7155</td>\n    </tr>\n    <tr>\n      <th>1800052237</th>\n      <td>XM_032145197</td>\n      <td>7158</td>\n    </tr>\n    <tr>\n      <th>262205230</th>\n      <td>NR_029665</td>\n      <td>97</td>\n    </tr>\n  </tbody>\n</table>\n</div>"
     },
     "metadata": {},
     "execution_count": 8
    }
   ],
   "source": [
    "import pandas as pd\n",
    "foundIds = nucleotideSearch(\"GSPT1\")\n",
    "table = pd.DataFrame(columns = [\"UID\",\"AccessionNumber\", \"SequenceLength\"])\n",
    "table = table.set_index(\"UID\")\n",
    "for id in foundIds:\n",
    "    handle = Entrez.esummary(db = 'nucleotide',id = id,retmode = 'xml') \n",
    "    records = Entrez.parse(handle)\n",
    "    for record in records:\n",
    "        table.loc[id] = [record[\"Caption\"], record[\"Length\"]]\n",
    "    handle.close()\n",
    "table"
   ]
  },
  {
   "cell_type": "code",
   "execution_count": 15,
   "metadata": {},
   "outputs": [],
   "source": [
    "from Bio import SeqIO\n",
    "import Bio\n",
    "\n",
    "def fetchIdsToFasta(ids, fastaFileName):\n",
    "    with open(fastaFileName, 'w') as fasta:\n",
    "        for id in ids:\n",
    "            try:\n",
    "                handle = Entrez.efetch(db = 'nucleotide',id = id,retmode = 'xml') \n",
    "                records = Entrez.parse(handle)\n",
    "                for record in records:\n",
    "                    if 'GBSeq_sequence' in record:\n",
    "                        seqRecord = Bio.SeqRecord.SeqRecord(Bio.Seq.Seq(record['GBSeq_sequence']), id=id, name='', description='', dbxrefs=[])\n",
    "                        Bio.SeqIO.write(seqRecord, fasta, 'fasta')\n",
    "                handle.close()\n",
    "            except:\n",
    "                print(f\"Failed to parse ID: {id}; skipped\")\n",
    "                pass"
   ]
  },
  {
   "cell_type": "code",
   "execution_count": 16,
   "metadata": {},
   "outputs": [],
   "source": [
    "foundIds = nucleotideSearch(\"GSPT1\")\n",
    "fetchIdsToFasta(foundIds, \"out.fasta\")"
   ]
  },
  {
   "cell_type": "markdown",
   "metadata": {},
   "source": [
    "## "
   ]
  },
  {
   "cell_type": "code",
   "execution_count": 17,
   "metadata": {},
   "outputs": [
    {
     "output_type": "stream",
     "name": "stdout",
     "text": "Failed to parse ID: 16123127; skipped\nFailed to parse ID: 12839621; skipped\nFailed to parse ID: 16272413; skipped\nFailed to parse ID: 15282319; skipped\nFailed to parse ID: 15618222; skipped\nFailed to parse ID: 11281322; skipped\nFailed to parse ID: 15029195; skipped\nFailed to parse ID: 18537542; skipped\n"
    }
   ],
   "source": [
    "handle = Entrez.elink(dbfrom=\"pubmed\", id='12890024', linkname=\"pubmed_pubmed\")\n",
    "foundIds = Entrez.read(handle)\n",
    "handle.close()\n",
    "links = [link[\"Id\"] for link in foundIds[0][\"LinkSetDb\"][0][\"Link\"]]\n",
    "fetchIdsToFasta(links, \"pm_out.fasta\")"
   ]
  },
  {
   "cell_type": "code",
   "execution_count": null,
   "metadata": {},
   "outputs": [],
   "source": []
  }
 ]
}